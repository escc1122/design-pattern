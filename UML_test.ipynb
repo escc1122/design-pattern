{
 "cells": [
  {
   "attachments": {},
   "cell_type": "markdown",
   "id": "1040ac7f",
   "metadata": {},
   "source": [
    "![image](https://github.com/escc1122/design-pattern/blob/master/images/association.jpg)"
   ]
  },
  {
   "cell_type": "code",
   "execution_count": 1,
   "id": "8a5ae577",
   "metadata": {},
   "outputs": [],
   "source": [
    "class Climate:\n",
    "    def __init__(self):\n",
    "        pass\n",
    "\n",
    "class Animal:\n",
    "    def __init__(self):\n",
    "        self._climate = Climate"
   ]
  },
  {
   "attachments": {},
   "cell_type": "markdown",
   "id": "b8cdb499",
   "metadata": {},
   "source": [
    "![image](https://github.com/escc1122/design-pattern/blob/master/images/Aggregation.jpg)"
   ]
  },
  {
   "cell_type": "code",
   "execution_count": 2,
   "id": "9308c738",
   "metadata": {},
   "outputs": [],
   "source": [
    "class WildGoode:\n",
    "    def __init__(self):\n",
    "        pass\n",
    "\n",
    "class WildGoodeAggregate:\n",
    "    def __init__(self):\n",
    "         self._arrayWildGoose:WildGoode[WildGoode] = []"
   ]
  },
  {
   "attachments": {},
   "cell_type": "markdown",
   "id": "748a98bd",
   "metadata": {},
   "source": [
    "![image](https://github.com/escc1122/design-pattern/blob/master/images/Composition.jpg)"
   ]
  },
  {
   "cell_type": "code",
   "execution_count": 3,
   "id": "ec52aa6f",
   "metadata": {},
   "outputs": [],
   "source": [
    "class Wing:\n",
    "    def __init__(self):\n",
    "        pass\n",
    "    \n",
    "class bird:\n",
    "    def __init__(self):\n",
    "        self._wing_a = Wing()\n",
    "        self._wing_b = Wing()"
   ]
  },
  {
   "attachments": {},
   "cell_type": "markdown",
   "id": "897a1ce9",
   "metadata": {},
   "source": [
    "![image](https://github.com/escc1122/design-pattern/blob/master/images/Dependency.jpg)"
   ]
  },
  {
   "cell_type": "code",
   "execution_count": 4,
   "id": "4881027c",
   "metadata": {},
   "outputs": [],
   "source": [
    "class Oxygen:\n",
    "    def __init__(self):\n",
    "        pass\n",
    "\n",
    "class Water:\n",
    "    def __init__(self):\n",
    "        pass\n",
    "\n",
    "class Animal2:\n",
    "    def metabolism(self,oxygen:Oxygen,water:Water):\n",
    "        pass"
   ]
  },
  {
   "cell_type": "code",
   "execution_count": null,
   "id": "569c46dc",
   "metadata": {},
   "outputs": [],
   "source": []
  }
 ],
 "metadata": {
  "kernelspec": {
   "display_name": "Python 3 (ipykernel)",
   "language": "python",
   "name": "python3"
  },
  "language_info": {
   "codemirror_mode": {
    "name": "ipython",
    "version": 3
   },
   "file_extension": ".py",
   "mimetype": "text/x-python",
   "name": "python",
   "nbconvert_exporter": "python",
   "pygments_lexer": "ipython3",
   "version": "3.8.11"
  }
 },
 "nbformat": 4,
 "nbformat_minor": 5
}
